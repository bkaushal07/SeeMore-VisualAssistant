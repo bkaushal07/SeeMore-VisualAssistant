import cv2
import torch
import urllib.request

import matplotlib.pyplot as plt

url, filename = ("https://github.com/pytorch/hub/raw/master/images/dog.jpg", "dog.jpg")
urllib.request.urlretrieve(url, filename)


filename = "C:\\Users\\banka\\OneDrive\\Pictures\\Camera Roll\\webcampic.jpg"


#model_type = "DPT_Large"     # MiDaS v3 - Large     (highest accuracy, slowest inference speed)
#model_type = "DPT_Hybrid"   # MiDaS v3 - Hybrid    (medium accuracy, medium inference speed)
model_type = "MiDaS_small"  # MiDaS v2.1 - Small   (lowest accuracy, highest inference speed)

midas = torch.hub.load("intel-isl/MiDaS", model_type)


device = torch.device("cuda") if torch.cuda.is_available() else torch.device("cpu")
midas.to(device)
midas.eval()


midas_transforms = torch.hub.load("intel-isl/MiDaS", "transforms")

if model_type == "DPT_Large" or model_type == "DPT_Hybrid":
    transform = midas_transforms.dpt_transform
else:
    transform = midas_transforms.small_transform


img = cv2.imread(filename)
img = cv2.cvtColor(img, cv2.COLOR_BGR2RGB)

input_batch = transform(img).to(device)


with torch.no_grad():
    prediction = midas(input_batch)

    prediction = torch.nn.functional.interpolate(
        prediction.unsqueeze(1),
        size=img.shape[:2],
        mode="bicubic",
        align_corners=False,
    ).squeeze()

output = prediction.cpu().numpy()


plt.imshow(output)
# plt.show()


cap = cv2.VideoCapture(0)

if not cap.isOpened():
    print('Cannot open webcam')
    exit(-1)

while True:
    success, frame = cap.read()

    # Apply transforms
    img = cv2.cvtColor(frame, cv2.COLOR_BGR2RGB)
    input_batch = transform(img).to(device)

    # Predict and resize to original resolution
    with torch.no_grad():
        prediction = midas(input_batch)

        prediction = torch.nn.functional.interpolate(
            prediction.unsqueeze(1),
            size=img.shape[:2],
            mode="bicubic",
            align_corners=False,
        ).squeeze()

    output = prediction.cpu().numpy()

    plt.imshow(output)
    plt.pause(0.00001)

    cv2.imshow('Webcam', img)

    if cv2.waitKey(1) & 0xFF == ord('q'):  # Keep running until you press `q`
        break

cap.release()
cv2.destroyAllWindows()
plt.show()


# cap = cv2.VideoCapture(0)

# if not cap.isOpened():
#     print('Cannot open webcam')
#     exit(-1)

# # Define the threshold value
# threshold = 0.5

# while True:
#     success, frame = cap.read()

#     # Apply transforms
#     img = cv2.cvtColor(frame, cv2.COLOR_BGR2RGB)
#     input_batch = transform(img).to(device)

#     # Predict and resize to original resolution
#     with torch.no_grad():
#         prediction = midas(input_batch)

#         prediction = torch.nn.functional.interpolate(
#             prediction.unsqueeze(1),
#             size=img.shape[:2],
#             mode="bicubic",
#             align_corners=False,
#         ).squeeze()

#     output = prediction.cpu().numpy()

#     # Apply a binary threshold to create a mask
#     mask = output > threshold

#     # Apply the mask to the original image
#     masked_img = cv2.bitwise_and(img, img, mask=mask.astype(np.uint8))

#     # Display the masked image and labels
#     cv2.imshow('Webcam', masked_img)

#     if cv2.waitKey(1) & 0xFF == ord('q'):  # Keep running until you press `q`
#         break

# cap.release()
# cv2.destroyAllWindows()




